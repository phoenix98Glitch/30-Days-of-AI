{
 "cells": [
  {
   "cell_type": "markdown",
   "metadata": {},
   "source": [
    "# Convolutional Neural Networks: Application\n",
    "\n",
    "Welcome to Course 4's second assignment! In this notebook, you will:\n",
    "\n",
    "- Create a mood classifer using the TF Keras Sequential API\n",
    "- Build a ConvNet to identify sign language digits using the TF Keras Functional API\n",
    "\n",
    "**After this assignment you will be able to:**\n",
    "\n",
    "- Build and train a ConvNet in TensorFlow for a __binary__ classification problem\n",
    "- Build and train a ConvNet in TensorFlow for a __multiclass__ classification problem\n",
    "- Explain different use cases for the Sequential and Functional APIs\n",
    "\n",
    "To complete this assignment, you should already be familiar with TensorFlow. If you are not, please refer back to the **TensorFlow Tutorial** of the third week of Course 2 (\"**Improving deep neural networks**\")."
   ]
  },
  {
   "cell_type": "markdown",
   "metadata": {},
   "source": [
    "## Table of Contents\n",
    "\n",
    "- [1 - Packages](#1)\n",
    "    - [1.1 - Load the Data and Split the Data into Train/Test Sets](#1-1)\n",
    "- [2 - Layers in TF Keras](#2)\n",
    "- [3 - The Sequential API](#3)\n",
    "    - [3.1 - Create the Sequential Model](#3-1)\n",
    "        - [Exercise 1 - happyModel](#ex-1)\n",
    "    - [3.2 - Train and Evaluate the Model](#3-2)\n",
    "- [4 - The Functional API](#4)\n",
    "    - [4.1 - Load the SIGNS Dataset](#4-1)\n",
    "    - [4.2 - Split the Data into Train/Test Sets](#4-2)\n",
    "    - [4.3 - Forward Propagation](#4-3)\n",
    "        - [Exercise 2 - convolutional_model](#ex-2)\n",
    "    - [4.4 - Train the Model](#4-4)\n",
    "- [5 - History Object](#5)\n",
    "- [6 - Bibliography](#6)"
   ]
  },
  {
   "cell_type": "markdown",
   "metadata": {},
   "source": [
    "<a name='1'></a>\n",
    "## 1 - Packages\n",
    "\n",
    "As usual, begin by loading in the packages."
   ]
  },
  {
   "cell_type": "code",
   "execution_count": 3,
   "metadata": {},
   "outputs": [],
   "source": [
    "import math\n",
    "import numpy as np\n",
    "import h5py\n",
    "import matplotlib.pyplot as plt\n",
    "from matplotlib.pyplot import imread\n",
    "import scipy\n",
    "from PIL import Image\n",
    "import pandas as pd\n",
    "import tensorflow as tf\n",
    "import tensorflow.keras.layers as tfl\n",
    "from tensorflow.python.framework import ops\n",
    "from cnn_utils import *\n",
    "from test_utils import summary, comparator\n",
    "\n",
    "%matplotlib inline\n",
    "np.random.seed(1)"
   ]
  },
  {
   "cell_type": "markdown",
   "metadata": {},
   "source": [
    "<a name='1-1'></a>\n",
    "### 1.1 - Load the Data and Split the Data into Train/Test Sets\n",
    "\n",
    "You'll be using the Happy House dataset for this part of the assignment, which contains images of peoples' faces. Your task will be to build a ConvNet that determines whether the people in the images are smiling or not -- because they only get to enter the house if they're smiling!  "
   ]
  },
  {
   "cell_type": "code",
   "execution_count": 4,
   "metadata": {},
   "outputs": [
    {
     "name": "stdout",
     "output_type": "stream",
     "text": [
      "number of training examples = 600\n",
      "number of test examples = 150\n",
      "X_train shape: (600, 64, 64, 3)\n",
      "Y_train shape: (600, 1)\n",
      "X_test shape: (150, 64, 64, 3)\n",
      "Y_test shape: (150, 1)\n"
     ]
    }
   ],
   "source": [
    "X_train_orig, Y_train_orig, X_test_orig, Y_test_orig, classes = load_happy_dataset()\n",
    "\n",
    "# Normalize image vectors\n",
    "X_train = X_train_orig/255.\n",
    "X_test = X_test_orig/255.\n",
    "\n",
    "# Reshape\n",
    "Y_train = Y_train_orig.T\n",
    "Y_test = Y_test_orig.T\n",
    "\n",
    "print (\"number of training examples = \" + str(X_train.shape[0]))\n",
    "print (\"number of test examples = \" + str(X_test.shape[0]))\n",
    "print (\"X_train shape: \" + str(X_train.shape))\n",
    "print (\"Y_train shape: \" + str(Y_train.shape))\n",
    "print (\"X_test shape: \" + str(X_test.shape))\n",
    "print (\"Y_test shape: \" + str(Y_test.shape))"
   ]
  },
  {
   "cell_type": "markdown",
   "metadata": {},
   "source": [
    "You can display the images contained in the dataset. Images are **64x64** pixels in RGB format (3 channels)."
   ]
  },
  {
   "cell_type": "code",
   "execution_count": 5,
   "metadata": {},
   "outputs": [
    {
     "data": {
      "image/png": "[encoded data removed]",
      "text/plain": [
       "<Figure size 432x288 with 1 Axes>"
      ]
     },
     "metadata": {
      "needs_background": "light"
     },
     "output_type": "display_data"
    }
   ],
   "source": [
    "index = 125\n",
    "plt.imshow(X_train_orig[index]) #display sample training image\n",
    "plt.show()"
   ]
  },
  {
   "cell_type": "markdown",
   "metadata": {},
   "source": [
    "<a name='2'></a>\n",
    "## 2 - Layers in TF Keras \n",
    "\n",
    "In the previous assignment, you created layers manually in numpy. In TF Keras, you don't have to write code directly to create layers. Rather, TF Keras has pre-defined layers you can use. \n",
    "\n",
    "When you create a layer in TF Keras, you are creating a function that takes some input and transforms it into an output you can reuse later. Nice and easy! "
   ]
  },
  {
   "cell_type": "markdown",
   "metadata": {},
   "source": [
    "<a name='3'></a>\n",
    "## 3 - The Sequential API\n",
    "\n",
    "In the previous assignment, you built helper functions using `numpy` to understand the mechanics behind convolutional neural networks. Most practical applications of deep learning today are built using programming frameworks, which have many built-in functions you can simply call. Keras is a high-level abstraction built on top of TensorFlow, which allows for even more simplified and optimized model creation and training. \n",
    "\n",
    "For the first part of this assignment, you'll create a model using TF Keras' Sequential API, which allows you to build layer by layer, and is ideal for building models where each layer has **exactly one** input tensor and **one** output tensor. \n",
    "\n",
    "As you'll see, using the Sequential API is simple and straightforward, but is only appropriate for simpler, more straightforward tasks. Later in this notebook you'll spend some time building with a more flexible, powerful alternative: the Functional API. \n",
    " "
   ]
  },
  {
   "cell_type": "markdown",
   "metadata": {},
   "source": [
    "<a name='3-1'></a>\n",
    "### 3.1 - Create the Sequential Model\n",
    "\n",
    "As mentioned earlier, the TensorFlow Keras Sequential API can be used to build simple models with layer operations that proceed in a sequential order. \n",
    "\n",
    "You can also add layers incrementally to a Sequential model with the `.add()` method, or remove them using the `.pop()` method, much like you would in a regular Python list.\n",
    "\n",
    "Actually, you can think of a Sequential model as behaving like a list of layers. Like Python lists, Sequential layers are ordered, and the order in which they are specified matters.  If your model is non-linear or contains layers with multiple inputs or outputs, a Sequential model wouldn't be the right choice!\n",
    "\n",
    "For any layer construction in Keras, you'll need to specify the input shape in advance. This is because in Keras, the shape of the weights is based on the shape of the inputs. The weights are only created when the model first sees some input data. Sequential models can be created by passing a list of layers to the Sequential constructor, like you will do in the next assignment.\n",
    "\n",
    "<a name='ex-1'></a>\n",
    "### Exercise 1 - happyModel\n",
    "\n",
    "Implement the `happyModel` function below to build the following model: `ZEROPAD2D -> CONV2D -> BATCHNORM -> RELU -> MAXPOOL -> FLATTEN -> DENSE`. Take help from [tf.keras.layers](https://www.tensorflow.org/api_docs/python/tf/keras/layers) \n",
    "\n",
    "Also, plug in the following parameters for all the steps:\n",
    "\n",
    " - [ZeroPadding2D](https://www.tensorflow.org/api_docs/python/tf/keras/layers/ZeroPadding2D): padding 3, input shape 64 x 64 x 3\n",
    " - [Conv2D](https://www.tensorflow.org/api_docs/python/tf/keras/layers/Conv2D): Use 32 7x7 filters, stride 1\n",
    " - [BatchNormalization](https://www.tensorflow.org/api_docs/python/tf/keras/layers/BatchNormalization): for axis 3\n",
    " - [ReLU](https://www.tensorflow.org/api_docs/python/tf/keras/layers/ReLU)\n",
    " - [MaxPool2D](https://www.tensorflow.org/api_docs/python/tf/keras/layers/MaxPool2D): Using default parameters\n",
    " - [Flatten](https://www.tensorflow.org/api_docs/python/tf/keras/layers/Flatten) the previous output.\n",
    " - Fully-connected ([Dense](https://www.tensorflow.org/api_docs/python/tf/keras/layers/Dense)) layer: Apply a fully connected layer with 1 neuron and a sigmoid activation. \n",
    " \n",
    " \n",
    " **Hint:**\n",
    " \n",
    " Use **tfl** as shorthand for **tensorflow.keras.layers**"
   ]
  },
  {
   "cell_type": "code",
   "execution_count": 6,
   "metadata": {
    "deletable": false,
    "nbgrader": {
     "cell_type": "code",
     "checksum": "95d28b191f257bdd5b70c7b8952559d5",
     "grade": false,
     "grade_id": "cell-0e56d3fc28b69aec",
     "locked": false,
     "schema_version": 3,
     "solution": true,
     "task": false
    }
   },
   "outputs": [],
   "source": [
    "# GRADED FUNCTION: happyModel\n",
    "\n",
    "def happyModel():\n",
    "    \"\"\"\n",
    "    Implements the forward propagation for the binary classification model:\n",
    "    ZEROPAD2D -> CONV2D -> BATCHNORM -> RELU -> MAXPOOL -> FLATTEN -> DENSE\n",
    "    \n",
    "    Note that for simplicity and grading purposes, you'll hard-code all the values\n",
    "    such as the stride and kernel (filter) sizes. \n",
    "    Normally, functions should take these values as function parameters.\n",
    "    \n",
    "    Arguments:\n",
    "    None\n",
    "\n",
    "    Returns:\n",
    "    model -- TF Keras model (object containing the information for the entire training process) \n",
    "    \"\"\"\n",
    "    model = tf.keras.Sequential([\n",
    "            ## ZeroPadding2D with padding 3, input shape of 64 x 64 x 3\n",
    "            \n",
    "            ## Conv2D with 32 7x7 filters and stride of 1\n",
    "            \n",
    "            ## BatchNormalization for axis 3\n",
    "            \n",
    "            ## ReLU\n",
    "            \n",
    "            ## Max Pooling 2D with default parameters\n",
    "            \n",
    "            ## Flatten layer\n",
    "            \n",
    "            ## Dense layer with 1 unit for output & 'sigmoid' activation\n",
    "            \n",
    "            # YOUR CODE STARTS HERE\n",
    "        \n",
    "           tf.keras.layers.ZeroPadding2D(padding=(3,3), \n",
    "                         input_shape=(64, 64, 3), data_format=\"channels_last\"),\n",
    "            tf.keras.layers.Conv2D(32,(7,7),strides=(1,1)),\n",
    "            tf.keras.layers.BatchNormalization(axis=3),\n",
    "            tf.keras.layers.ReLU(),\n",
    "            tf.keras.layers.MaxPool2D(pool_size=(2, 2), strides=None, padding='valid', data_format=None),\n",
    "            tf.keras.layers.Flatten(),\n",
    "            tf.keras.layers.Dense(1, activation='sigmoid')\n",
    "        \n",
    "            # YOUR CODE ENDS HERE\n",
    "        ])\n",
    "    \n",
    "    return model"
   ]
  },
  {
   "cell_type": "code",
   "execution_count": 7,
   "metadata": {
    "deletable": false,
    "editable": false,
    "nbgrader": {
     "cell_type": "code",
     "checksum": "8d3575c950e2e78149be2d05d671c80d",
     "grade": true,
     "grade_id": "cell-e3e1046e5c33d775",
     "locked": true,
     "points": 10,
     "schema_version": 3,
     "solution": false,
     "task": false
    }
   },
   "outputs": [
    {
     "name": "stdout",
     "output_type": "stream",
     "text": [
      "['ZeroPadding2D', (None, 70, 70, 3), 0, ((3, 3), (3, 3))]\n",
      "['Conv2D', (None, 64, 64, 32), 4736, 'valid', 'linear', 'GlorotUniform']\n",
      "['BatchNormalization', (None, 64, 64, 32), 128]\n",
      "['ReLU', (None, 64, 64, 32), 0]\n",
      "['MaxPooling2D', (None, 32, 32, 32), 0, (2, 2), (2, 2), 'valid']\n",
      "['Flatten', (None, 32768), 0]\n",
      "['Dense', (None, 1), 32769, 'sigmoid']\n",
      "\u001b[32mAll tests passed!\u001b[0m\n"
     ]
    }
   ],
   "source": [
    "happy_model = happyModel()\n",
    "# Print a summary for each layer\n",
    "for layer in summary(happy_model):\n",
    "    print(layer)\n",
    "    \n",
    "output = [['ZeroPadding2D', (None, 70, 70, 3), 0, ((3, 3), (3, 3))],\n",
    "            ['Conv2D', (None, 64, 64, 32), 4736, 'valid', 'linear', 'GlorotUniform'],\n",
    "            ['BatchNormalization', (None, 64, 64, 32), 128],\n",
    "            ['ReLU', (None, 64, 64, 32), 0],\n",
    "            ['MaxPooling2D', (None, 32, 32, 32), 0, (2, 2), (2, 2), 'valid'],\n",
    "            ['Flatten', (None, 32768), 0],\n",
    "            ['Dense', (None, 1), 32769, 'sigmoid']]\n",
    "    \n",
    "comparator(summary(happy_model), output)"
   ]
  },
  {
   "cell_type": "markdown",
   "metadata": {},
   "source": [
    "Now that your model is created, you can compile it for training with an optimizer and loss of your choice. When the string `accuracy` is specified as a metric, the type of accuracy used will be automatically converted based on the loss function used. This is one of the many optimizations built into TensorFlow that make your life easier! If you'd like to read more on how the compiler operates, check the docs [here](https://www.tensorflow.org/api_docs/python/tf/keras/Model#compile)."
   ]
  },
  {
   "cell_type": "code",
   "execution_count": 8,
   "metadata": {},
   "outputs": [],
   "source": [
    "happy_model.compile(optimizer='adam',\n",
    "                   loss='binary_crossentropy',\n",
    "                   metrics=['accuracy'])"
   ]
  },
  {
   "cell_type": "markdown",
   "metadata": {},
   "source": [
    "It's time to check your model's parameters with the `.summary()` method. This will display the types of layers you have, the shape of the outputs, and how many parameters are in each layer. "
   ]
  },
  {
   "cell_type": "code",
   "execution_count": 9,
   "metadata": {},
   "outputs": [
    {
     "name": "stdout",
     "output_type": "stream",
     "text": [
      "Model: \"sequential\"\n",
      "_________________________________________________________________\n",
      "Layer (type)                 Output Shape              Param #   \n",
      "=================================================================\n",
      "zero_padding2d (ZeroPadding2 (None, 70, 70, 3)         0         \n",
      "_________________________________________________________________\n",
      "conv2d (Conv2D)              (None, 64, 64, 32)        4736      \n",
      "_________________________________________________________________\n",
      "batch_normalization (BatchNo (None, 64, 64, 32)        128       \n",
      "_________________________________________________________________\n",
      "re_lu (ReLU)                 (None, 64, 64, 32)        0         \n",
      "_________________________________________________________________\n",
      "max_pooling2d (MaxPooling2D) (None, 32, 32, 32)        0         \n",
      "_________________________________________________________________\n",
      "flatten (Flatten)            (None, 32768)             0         \n",
      "_________________________________________________________________\n",
      "dense (Dense)                (None, 1)                 32769     \n",
      "=================================================================\n",
      "Total params: 37,633\n",
      "Trainable params: 37,569\n",
      "Non-trainable params: 64\n",
      "_________________________________________________________________\n"
     ]
    }
   ],
   "source": [
    "happy_model.summary()"
   ]
  },
  {
   "cell_type": "markdown",
   "metadata": {},
   "source": [
    "<a name='3-2'></a>\n",
    "### 3.2 - Train and Evaluate the Model\n",
    "\n",
    "After creating the model, compiling it with your choice of optimizer and loss function, and doing a sanity check on its contents, you are now ready to build! \n",
    "\n",
    "Simply call `.fit()` to train. That's it! No need for mini-batching, saving, or complex backpropagation computations. That's all been done for you, as you're using a TensorFlow dataset with the batches specified already. You do have the option to specify epoch number or minibatch size if you like (for example, in the case of an un-batched dataset)."
   ]
  },
  {
   "cell_type": "code",
   "execution_count": 10,
   "metadata": {},
   "outputs": [
    {
     "name": "stdout",
     "output_type": "stream",
     "text": [
      "Epoch 1/10\n",
      "38/38 [==============================] - 4s 95ms/step - loss: 1.3868 - accuracy: 0.7083\n",
      "Epoch 2/10\n",
      "38/38 [==============================] - 3s 90ms/step - loss: 0.2805 - accuracy: 0.9017\n",
      "Epoch 3/10\n",
      "38/38 [==============================] - 3s 87ms/step - loss: 0.1517 - accuracy: 0.9467\n",
      "Epoch 4/10\n",
      "38/38 [==============================] - 3s 89ms/step - loss: 0.1239 - accuracy: 0.9650\n",
      "Epoch 5/10\n",
      "38/38 [==============================] - 3s 89ms/step - loss: 0.1457 - accuracy: 0.9600\n",
      "Epoch 6/10\n",
      "38/38 [==============================] - 3s 87ms/step - loss: 0.0816 - accuracy: 0.9767\n",
      "Epoch 7/10\n",
      "38/38 [==============================] - 3s 89ms/step - loss: 0.0774 - accuracy: 0.9800\n",
      "Epoch 8/10\n",
      "38/38 [==============================] - 3s 89ms/step - loss: 0.0738 - accuracy: 0.9767\n",
      "Epoch 9/10\n",
      "38/38 [==============================] - 3s 89ms/step - loss: 0.1089 - accuracy: 0.9500\n",
      "Epoch 10/10\n",
      "38/38 [==============================] - 3s 90ms/step - loss: 0.0754 - accuracy: 0.9717\n"
     ]
    },
    {
     "data": {
      "text/plain": [
       "<tensorflow.python.keras.callbacks.History at 0x7f334a295c50>"
      ]
     },
     "execution_count": 10,
     "metadata": {},
     "output_type": "execute_result"
    }
   ],
   "source": [
    "happy_model.fit(X_train, Y_train, epochs=10, batch_size=16)"
   ]
  },
  {
   "cell_type": "markdown",
   "metadata": {},
   "source": [
    "After that completes, just use `.evaluate()` to evaluate against your test set. This function will print the value of the loss function and the performance metrics specified during the compilation of the model. In this case, the `binary_crossentropy` and the `accuracy` respectively."
   ]
  },
  {
   "cell_type": "code",
   "execution_count": 11,
   "metadata": {},
   "outputs": [
    {
     "name": "stdout",
     "output_type": "stream",
     "text": [
      "5/5 [==============================] - 0s 33ms/step - loss: 0.6474 - accuracy: 0.7000\n"
     ]
    },
    {
     "data": {
      "text/plain": [
       "[0.6474294662475586, 0.699999988079071]"
      ]
     },
     "execution_count": 11,
     "metadata": {},
     "output_type": "execute_result"
    }
   ],
   "source": [
    "happy_model.evaluate(X_test, Y_test)"
   ]
  },
  {
   "cell_type": "markdown",
   "metadata": {},
   "source": [
    "Easy, right? But what if you need to build a model with shared layers, branches, or multiple inputs and outputs? This is where Sequential, with its beautifully simple yet limited functionality, won't be able to help you. \n",
    "\n",
    "Next up: Enter the Functional API, your slightly more complex, highly flexible friend.  "
   ]
  },
  {
   "cell_type": "markdown",
   "metadata": {},
   "source": [
    "<a name='4'></a>\n",
    "## 4 - The Functional API"
   ]
  },
  {
   "cell_type": "markdown",
   "metadata": {},
   "source": [
    "Welcome to the second half of the assignment, where you'll use Keras' flexible [Functional API](https://www.tensorflow.org/guide/keras/functional) to build a ConvNet that can differentiate between 6 sign language digits. \n",
    "\n",
    "The Functional API can handle models with non-linear topology, shared layers, as well as layers with multiple inputs or outputs. Imagine that, where the Sequential API requires the model to move in a linear fashion through its layers, the Functional API allows much more flexibility. Where Sequential is a straight line, a Functional model is a graph, where the nodes of the layers can connect in many more ways than one. \n",
    "\n",
    "In the visual example below, the one possible direction of the movement Sequential model is shown in contrast to a skip connection, which is just one of the many ways a Functional model can be constructed. A skip connection, as you might have guessed, skips some layer in the network and feeds the output to a later layer in the network. Don't worry, you'll be spending more time with skip connections very soon! "
   ]
  },
  {
   "cell_type": "markdown",
   "metadata": {},
   "source": [
    "<img src=\"images/seq_vs_func.png\" style=\"width:350px;height:200px;\">"
   ]
  },
  {
   "cell_type": "markdown",
   "metadata": {},
   "source": [
    "<a name='4-1'></a>\n",
    "### 4.1 - Load the SIGNS Dataset\n",
    "\n",
    "As a reminder, the SIGNS dataset is a collection of 6 signs representing numbers from 0 to 5."
   ]
  },
  {
   "cell_type": "code",
   "execution_count": 12,
   "metadata": {},
   "outputs": [],
   "source": [
    "# Loading the data (signs)\n",
    "X_train_orig, Y_train_orig, X_test_orig, Y_test_orig, classes = load_signs_dataset()"
   ]
  },
  {
   "cell_type": "markdown",
   "metadata": {},
   "source": [
    "<img src=\"images/SIGNS.png\" style=\"width:800px;height:300px;\">\n",
    "\n",
    "The next cell will show you an example of a labelled image in the dataset. Feel free to change the value of `index` below and re-run to see different examples. "
   ]
  },
  {
   "cell_type": "code",
   "execution_count": 13,
   "metadata": {},
   "outputs": [
    {
     "name": "stdout",
     "output_type": "stream",
     "text": [
      "y = 4\n"
     ]
    },
    {
     "data": {
      "image/png": "[encoded data removed]",
      "text/plain": [
       "<Figure size 432x288 with 1 Axes>"
      ]
     },
     "metadata": {
      "needs_background": "light"
     },
     "output_type": "display_data"
    }
   ],
   "source": [
    "# Example of an image from the dataset\n",
    "index = 9\n",
    "plt.imshow(X_train_orig[index])\n",
    "print (\"y = \" + str(np.squeeze(Y_train_orig[:, index])))"
   ]
  },
  {
   "cell_type": "markdown",
   "metadata": {},
   "source": [
    "<a name='4-2'></a>\n",
    "### 4.2 - Split the Data into Train/Test Sets\n",
    "\n",
    "In Course 2, you built a fully-connected network for this dataset. But since this is an image dataset, it is more natural to apply a ConvNet to it.\n",
    "\n",
    "To get started, let's examine the shapes of your data. "
   ]
  },
  {
   "cell_type": "code",
   "execution_count": 14,
   "metadata": {},
   "outputs": [
    {
     "name": "stdout",
     "output_type": "stream",
     "text": [
      "number of training examples = 1080\n",
      "number of test examples = 120\n",
      "X_train shape: (1080, 64, 64, 3)\n",
      "Y_train shape: (1080, 6)\n",
      "X_test shape: (120, 64, 64, 3)\n",
      "Y_test shape: (120, 6)\n"
     ]
    }
   ],
   "source": [
    "X_train = X_train_orig/255.\n",
    "X_test = X_test_orig/255.\n",
    "Y_train = convert_to_one_hot(Y_train_orig, 6).T\n",
    "Y_test = convert_to_one_hot(Y_test_orig, 6).T\n",
    "print (\"number of training examples = \" + str(X_train.shape[0]))\n",
    "print (\"number of test examples = \" + str(X_test.shape[0]))\n",
    "print (\"X_train shape: \" + str(X_train.shape))\n",
    "print (\"Y_train shape: \" + str(Y_train.shape))\n",
    "print (\"X_test shape: \" + str(X_test.shape))\n",
    "print (\"Y_test shape: \" + str(Y_test.shape))"
   ]
  },
  {
   "cell_type": "markdown",
   "metadata": {},
   "source": [
    "<a name='4-3'></a>\n",
    "### 4.3 - Forward Propagation\n",
    "\n",
    "In TensorFlow, there are built-in functions that implement the convolution steps for you. By now, you should be familiar with how TensorFlow builds computational graphs. In the [Functional API](https://www.tensorflow.org/guide/keras/functional), you create a graph of layers. This is what allows such great flexibility.\n",
    "\n",
    "However, the following model could also be defined using the Sequential API since the information flow is on a single line. But don't deviate. What we want you to learn is to use the functional API.\n",
    "\n",
    "Begin building your graph of layers by creating an input node that functions as a callable object:\n",
    "\n",
    "- **input_img = tf.keras.Input(shape=input_shape):** \n",
    "\n",
    "Then, create a new node in the graph of layers by calling a layer on the `input_img` object: \n",
    "\n",
    "- **tf.keras.layers.Conv2D(filters= ... , kernel_size= ... , padding='same')(input_img):** Read the full documentation on [Conv2D](https://www.tensorflow.org/api_docs/python/tf/keras/layers/Conv2D).\n",
    "\n",
    "- **tf.keras.layers.MaxPool2D(pool_size=(f, f), strides=(s, s), padding='same'):** `MaxPool2D()` downsamples your input using a window of size (f, f) and strides of size (s, s) to carry out max pooling over each window.  For max pooling, you usually operate on a single example at a time and a single channel at a time. Read the full documentation on [MaxPool2D](https://www.tensorflow.org/api_docs/python/tf/keras/layers/MaxPool2D).\n",
    "\n",
    "- **tf.keras.layers.ReLU():** computes the elementwise ReLU of Z (which can be any shape). You can read the full documentation on [ReLU](https://www.tensorflow.org/api_docs/python/tf/keras/layers/ReLU).\n",
    "\n",
    "- **tf.keras.layers.Flatten()**: given a tensor \"P\", this function takes each training (or test) example in the batch and flattens it into a 1D vector.  \n",
    "\n",
    "    * If a tensor P has the shape (batch_size,h,w,c), it returns a flattened tensor with shape (batch_size, k), where $k=h \\times w \\times c$.  \"k\" equals the product of all the dimension sizes other than the first dimension.\n",
    "    \n",
    "    * For example, given a tensor with dimensions [100, 2, 3, 4], it flattens the tensor to be of shape [100, 24], where 24 = 2 * 3 * 4.  You can read the full documentation on [Flatten](https://www.tensorflow.org/api_docs/python/tf/keras/layers/Flatten).\n",
    "\n",
    "- **tf.keras.layers.Dense(units= ... , activation='softmax')(F):** given the flattened input F, it returns the output computed using a fully connected layer. You can read the full documentation on [Dense](https://www.tensorflow.org/api_docs/python/tf/keras/layers/Dense).\n",
    "\n",
    "In the last function above (`tf.keras.layers.Dense()`), the fully connected layer automatically initializes weights in the graph and keeps on training them as you train the model. Hence, you did not need to initialize those weights when initializing the parameters.\n",
    "\n",
    "Lastly, before creating the model, you'll need to define the output using the last of the function's compositions (in this example, a Dense layer): \n",
    "\n",
    "- **outputs = tf.keras.layers.Dense(units=6, activation='softmax')(F)**\n",
    "\n",
    "\n",
    "#### Window, kernel, filter, pool\n",
    "\n",
    "The words \"kernel\" and \"filter\" are used to refer to the same thing. The word \"filter\" accounts for the amount of \"kernels\" that will be used in a single convolution layer. \"Pool\" is the name of the operation that takes the max or average value of the kernels. \n",
    "\n",
    "This is why the parameter `pool_size` refers to `kernel_size`, and you use `(f,f)` to refer to the filter size. \n",
    "\n",
    "Pool size and kernel size refer to the same thing in different objects - They refer to the shape of the window where the operation takes place. "
   ]
  },
  {
   "cell_type": "markdown",
   "metadata": {},
   "source": [
    "<a name='ex-2'></a>\n",
    "### Exercise 2 - convolutional_model\n",
    "\n",
    "Implement the `convolutional_model` function below to build the following model: `CONV2D -> RELU -> MAXPOOL -> CONV2D -> RELU -> MAXPOOL -> FLATTEN -> DENSE`. Use the functions above! \n",
    "\n",
    "Also, plug in the following parameters for all the steps:\n",
    "\n",
    " - [Conv2D](https://www.tensorflow.org/api_docs/python/tf/keras/layers/Conv2D): Use 8 4 by 4 filters, stride 1, padding is \"SAME\"\n",
    " - [ReLU](https://www.tensorflow.org/api_docs/python/tf/keras/layers/ReLU)\n",
    " - [MaxPool2D](https://www.tensorflow.org/api_docs/python/tf/keras/layers/MaxPool2D): Use an 8 by 8 filter size and an 8 by 8 stride, padding is \"SAME\"\n",
    " - **Conv2D**: Use 16 2 by 2 filters, stride 1, padding is \"SAME\"\n",
    " - **ReLU**\n",
    " - **MaxPool2D**: Use a 4 by 4 filter size and a 4 by 4 stride, padding is \"SAME\"\n",
    " - [Flatten](https://www.tensorflow.org/api_docs/python/tf/keras/layers/Flatten) the previous output.\n",
    " - Fully-connected ([Dense](https://www.tensorflow.org/api_docs/python/tf/keras/layers/Dense)) layer: Apply a fully connected layer with 6 neurons and a softmax activation. "
   ]
  },
  {
   "cell_type": "code",
   "execution_count": 21,
   "metadata": {
    "deletable": false,
    "nbgrader": {
     "cell_type": "code",
     "checksum": "f58643806aa8380c96225fc8b4c5e7aa",
     "grade": false,
     "grade_id": "cell-dac51744a9e03f51",
     "locked": false,
     "schema_version": 3,
     "solution": true,
     "task": false
    }
   },
   "outputs": [],
   "source": [
    "# GRADED FUNCTION: convolutional_model\n",
    "\n",
    "def convolutional_model(input_shape):\n",
    "    \"\"\"\n",
    "               tf.keras.layers.ZeroPadding2D(padding=(3,3), \n",
    "                         input_shape=(64, 64, 3), data_format=\"channels_last\"),\n",
    "            tf.keras.layers.Conv2D(32,(7,7),strides=(1,1)),\n",
    "            tf.keras.layers.BatchNormalization(axis=3),\n",
    "            tf.keras.layers.ReLU(),\n",
    "            tf.keras.layers.MaxPool2D(pool_size=(2, 2), strides=None, padding='valid', data_format=None),\n",
    "            tf.keras.layers.Flatten(),\n",
    "            tf.keras.layers.Dense(1, activation='sigmoid')\n",
    "    Implements the forward propagation for the model:\n",
    "    CONV2D -> RELU -> MAXPOOL -> CONV2D -> RELU -> MAXPOOL -> FLATTEN -> DENSE\n",
    "    \n",
    "    Note that for simplicity and grading purposes, you'll hard-code some values\n",
    "    such as the stride and kernel (filter) sizes. \n",
    "    Normally, functions should take these values as function parameters.\n",
    "    \n",
    "    Arguments:\n",
    "    input_img -- input dataset, of shape (input_shape)\n",
    "\n",
    "    Returns:\n",
    "    model -- TF Keras model (object containing the information for the entire training process) \n",
    "    \"\"\"\n",
    "\n",
    "    input_img = tf.keras.Input(shape=input_shape)\n",
    "    ## CONV2D: 8 filters 4x4, stride of 1, padding 'SAME'\n",
    "    Z1 = tf.keras.layers.Conv2D(8,(4,4),strides=(1,1),padding='same')(input_img)\n",
    "    ## RELU\n",
    "    A1 = tf.keras.layers.ReLU()(Z1)\n",
    "    ## MAXPOOL: window 8x8, stride 8, padding 'SAME'\n",
    "    P1 = tf.keras.layers.MaxPool2D(pool_size=(8,8), strides=(8,8), padding='same')(A1)\n",
    "    ## CONV2D: 16 filters 2x2, stride 1, padding 'SAME'\n",
    "    Z2 = tf.keras.layers.Conv2D(16,(2,2),strides=(1,1),padding='same')(P1)\n",
    "    ## RELU\n",
    "    A2 = tf.keras.layers.ReLU()(Z2)\n",
    "    ## MAXPOOL: window 4x4, stride 4, padding 'SAME'\n",
    "    P2 = tf.keras.layers.MaxPool2D(pool_size=(4,4), strides=(4,4), padding='same')(A2)\n",
    "    ## FLATTEN\n",
    "    F = tf.keras.layers.Flatten()(P2)\n",
    "    ## Dense layer\n",
    "    ## 6 neurons in output layer. Hint: one of the arguments should be \"activation='softmax'\" \n",
    "    outputs =tf.keras.layers.Dense(units=6, activation='softmax')(F)\n",
    "    # YOUR CODE STARTS HERE\n",
    "    \n",
    "    \n",
    "    # YOUR CODE ENDS HERE\n",
    "    model = tf.keras.Model(inputs=input_img, outputs=outputs)\n",
    "    return model"
   ]
  },
  {
   "cell_type": "code",
   "execution_count": 22,
   "metadata": {
    "deletable": false,
    "editable": false,
    "nbgrader": {
     "cell_type": "code",
     "checksum": "483d626949930a0b0ef20997e7c6ba72",
     "grade": true,
     "grade_id": "cell-45d22e92042174c9",
     "locked": true,
     "points": 10,
     "schema_version": 3,
     "solution": false,
     "task": false
    }
   },
   "outputs": [
    {
     "name": "stdout",
     "output_type": "stream",
     "text": [
      "Model: \"functional_1\"\n",
      "_________________________________________________________________\n",
      "Layer (type)                 Output Shape              Param #   \n",
      "=================================================================\n",
      "input_4 (InputLayer)         [(None, 64, 64, 3)]       0         \n",
      "_________________________________________________________________\n",
      "conv2d_6 (Conv2D)            (None, 64, 64, 8)         392       \n",
      "_________________________________________________________________\n",
      "re_lu_6 (ReLU)               (None, 64, 64, 8)         0         \n",
      "_________________________________________________________________\n",
      "max_pooling2d_4 (MaxPooling2 (None, 8, 8, 8)           0         \n",
      "_________________________________________________________________\n",
      "conv2d_7 (Conv2D)            (None, 8, 8, 16)          528       \n",
      "_________________________________________________________________\n",
      "re_lu_7 (ReLU)               (None, 8, 8, 16)          0         \n",
      "_________________________________________________________________\n",
      "max_pooling2d_5 (MaxPooling2 (None, 2, 2, 16)          0         \n",
      "_________________________________________________________________\n",
      "flatten_2 (Flatten)          (None, 64)                0         \n",
      "_________________________________________________________________\n",
      "dense_2 (Dense)              (None, 6)                 390       \n",
      "=================================================================\n",
      "Total params: 1,310\n",
      "Trainable params: 1,310\n",
      "Non-trainable params: 0\n",
      "_________________________________________________________________\n",
      "\u001b[32mAll tests passed!\u001b[0m\n"
     ]
    }
   ],
   "source": [
    "conv_model = convolutional_model((64, 64, 3))\n",
    "conv_model.compile(optimizer='adam',\n",
    "                  loss='categorical_crossentropy',\n",
    "                  metrics=['accuracy'])\n",
    "conv_model.summary()\n",
    "    \n",
    "output = [['InputLayer', [(None, 64, 64, 3)], 0],\n",
    "        ['Conv2D', (None, 64, 64, 8), 392, 'same', 'linear', 'GlorotUniform'],\n",
    "        ['ReLU', (None, 64, 64, 8), 0],\n",
    "        ['MaxPooling2D', (None, 8, 8, 8), 0, (8, 8), (8, 8), 'same'],\n",
    "        ['Conv2D', (None, 8, 8, 16), 528, 'same', 'linear', 'GlorotUniform'],\n",
    "        ['ReLU', (None, 8, 8, 16), 0],\n",
    "        ['MaxPooling2D', (None, 2, 2, 16), 0, (4, 4), (4, 4), 'same'],\n",
    "        ['Flatten', (None, 64), 0],\n",
    "        ['Dense', (None, 6), 390, 'softmax']]\n",
    "    \n",
    "comparator(summary(conv_model), output)"
   ]
  },
  {
   "cell_type": "markdown",
   "metadata": {},
   "source": [
    "Both the Sequential and Functional APIs return a TF Keras model object. The only difference is how inputs are handled inside the object model! "
   ]
  },
  {
   "cell_type": "markdown",
   "metadata": {},
   "source": [
    "<a name='4-4'></a>\n",
    "### 4.4 - Train the Model"
   ]
  },
  {
   "cell_type": "code",
   "execution_count": 23,
   "metadata": {},
   "outputs": [
    {
     "name": "stdout",
     "output_type": "stream",
     "text": [
      "Epoch 1/100\n",
      "17/17 [==============================] - 2s 100ms/step - loss: 1.8219 - accuracy: 0.1620 - val_loss: 1.7994 - val_accuracy: 0.1917\n",
      "Epoch 2/100\n",
      "17/17 [==============================] - 2s 100ms/step - loss: 1.7993 - accuracy: 0.1241 - val_loss: 1.7918 - val_accuracy: 0.1750\n",
      "Epoch 3/100\n",
      "17/17 [==============================] - 2s 100ms/step - loss: 1.7918 - accuracy: 0.1759 - val_loss: 1.7881 - val_accuracy: 0.2000\n",
      "Epoch 4/100\n",
      "17/17 [==============================] - 2s 100ms/step - loss: 1.7879 - accuracy: 0.1852 - val_loss: 1.7856 - val_accuracy: 0.2000\n",
      "Epoch 5/100\n",
      "17/17 [==============================] - 2s 100ms/step - loss: 1.7842 - accuracy: 0.2028 - val_loss: 1.7820 - val_accuracy: 0.1750\n",
      "Epoch 6/100\n",
      "17/17 [==============================] - 2s 94ms/step - loss: 1.7806 - accuracy: 0.2028 - val_loss: 1.7784 - val_accuracy: 0.2167\n",
      "Epoch 7/100\n",
      "17/17 [==============================] - 2s 95ms/step - loss: 1.7767 - accuracy: 0.2194 - val_loss: 1.7742 - val_accuracy: 0.2417\n",
      "Epoch 8/100\n",
      "17/17 [==============================] - 2s 96ms/step - loss: 1.7724 - accuracy: 0.2500 - val_loss: 1.7696 - val_accuracy: 0.2750\n",
      "Epoch 9/100\n",
      "17/17 [==============================] - 2s 100ms/step - loss: 1.7678 - accuracy: 0.2731 - val_loss: 1.7637 - val_accuracy: 0.2833\n",
      "Epoch 10/100\n",
      "17/17 [==============================] - 2s 95ms/step - loss: 1.7618 - accuracy: 0.2750 - val_loss: 1.7567 - val_accuracy: 0.3167\n",
      "Epoch 11/100\n",
      "17/17 [==============================] - 2s 95ms/step - loss: 1.7537 - accuracy: 0.3148 - val_loss: 1.7486 - val_accuracy: 0.3167\n",
      "Epoch 12/100\n",
      "17/17 [==============================] - 2s 100ms/step - loss: 1.7435 - accuracy: 0.3306 - val_loss: 1.7371 - val_accuracy: 0.3583\n",
      "Epoch 13/100\n",
      "17/17 [==============================] - 2s 95ms/step - loss: 1.7307 - accuracy: 0.3583 - val_loss: 1.7247 - val_accuracy: 0.3750\n",
      "Epoch 14/100\n",
      "17/17 [==============================] - 2s 100ms/step - loss: 1.7141 - accuracy: 0.4037 - val_loss: 1.7076 - val_accuracy: 0.4333\n",
      "Epoch 15/100\n",
      "17/17 [==============================] - 2s 95ms/step - loss: 1.6955 - accuracy: 0.4185 - val_loss: 1.6882 - val_accuracy: 0.4500\n",
      "Epoch 16/100\n",
      "17/17 [==============================] - 2s 95ms/step - loss: 1.6739 - accuracy: 0.4361 - val_loss: 1.6644 - val_accuracy: 0.4833\n",
      "Epoch 17/100\n",
      "17/17 [==============================] - 2s 100ms/step - loss: 1.6475 - accuracy: 0.4463 - val_loss: 1.6352 - val_accuracy: 0.4750\n",
      "Epoch 18/100\n",
      "17/17 [==============================] - 2s 96ms/step - loss: 1.6168 - accuracy: 0.4509 - val_loss: 1.6053 - val_accuracy: 0.4750\n",
      "Epoch 19/100\n",
      "17/17 [==============================] - 2s 95ms/step - loss: 1.5829 - accuracy: 0.4704 - val_loss: 1.5700 - val_accuracy: 0.5083\n",
      "Epoch 20/100\n",
      "17/17 [==============================] - 2s 100ms/step - loss: 1.5454 - accuracy: 0.4926 - val_loss: 1.5344 - val_accuracy: 0.4917\n",
      "Epoch 21/100\n",
      "17/17 [==============================] - 2s 95ms/step - loss: 1.5074 - accuracy: 0.5009 - val_loss: 1.4947 - val_accuracy: 0.4917\n",
      "Epoch 22/100\n",
      "17/17 [==============================] - 2s 100ms/step - loss: 1.4682 - accuracy: 0.5139 - val_loss: 1.4597 - val_accuracy: 0.5000\n",
      "Epoch 23/100\n",
      "17/17 [==============================] - 2s 100ms/step - loss: 1.4296 - accuracy: 0.5241 - val_loss: 1.4208 - val_accuracy: 0.5167\n",
      "Epoch 24/100\n",
      "17/17 [==============================] - 2s 100ms/step - loss: 1.3917 - accuracy: 0.5259 - val_loss: 1.3867 - val_accuracy: 0.5000\n",
      "Epoch 25/100\n",
      "17/17 [==============================] - 2s 100ms/step - loss: 1.3542 - accuracy: 0.5444 - val_loss: 1.3535 - val_accuracy: 0.5250\n",
      "Epoch 26/100\n",
      "17/17 [==============================] - 2s 99ms/step - loss: 1.3191 - accuracy: 0.5602 - val_loss: 1.3236 - val_accuracy: 0.5167\n",
      "Epoch 27/100\n",
      "17/17 [==============================] - 2s 95ms/step - loss: 1.2863 - accuracy: 0.5741 - val_loss: 1.2961 - val_accuracy: 0.5333\n",
      "Epoch 28/100\n",
      "17/17 [==============================] - 2s 100ms/step - loss: 1.2546 - accuracy: 0.5843 - val_loss: 1.2698 - val_accuracy: 0.5167\n",
      "Epoch 29/100\n",
      "17/17 [==============================] - 2s 95ms/step - loss: 1.2259 - accuracy: 0.5907 - val_loss: 1.2457 - val_accuracy: 0.5417\n",
      "Epoch 30/100\n",
      "17/17 [==============================] - 2s 100ms/step - loss: 1.2006 - accuracy: 0.5944 - val_loss: 1.2243 - val_accuracy: 0.5250\n",
      "Epoch 31/100\n",
      "17/17 [==============================] - 2s 96ms/step - loss: 1.1737 - accuracy: 0.6148 - val_loss: 1.2038 - val_accuracy: 0.5500\n",
      "Epoch 32/100\n",
      "17/17 [==============================] - 2s 95ms/step - loss: 1.1510 - accuracy: 0.6167 - val_loss: 1.1835 - val_accuracy: 0.5583\n",
      "Epoch 33/100\n",
      "17/17 [==============================] - 2s 95ms/step - loss: 1.1293 - accuracy: 0.6204 - val_loss: 1.1648 - val_accuracy: 0.5667\n",
      "Epoch 34/100\n",
      "17/17 [==============================] - 2s 95ms/step - loss: 1.1070 - accuracy: 0.6315 - val_loss: 1.1479 - val_accuracy: 0.5667\n",
      "Epoch 35/100\n",
      "17/17 [==============================] - 2s 95ms/step - loss: 1.0873 - accuracy: 0.6315 - val_loss: 1.1324 - val_accuracy: 0.5833\n",
      "Epoch 36/100\n",
      "17/17 [==============================] - 2s 95ms/step - loss: 1.0687 - accuracy: 0.6407 - val_loss: 1.1191 - val_accuracy: 0.5833\n",
      "Epoch 37/100\n",
      "17/17 [==============================] - 2s 96ms/step - loss: 1.0504 - accuracy: 0.6481 - val_loss: 1.1048 - val_accuracy: 0.5833\n",
      "Epoch 38/100\n",
      "17/17 [==============================] - 2s 100ms/step - loss: 1.0341 - accuracy: 0.6556 - val_loss: 1.0926 - val_accuracy: 0.6083\n",
      "Epoch 39/100\n",
      "17/17 [==============================] - 2s 100ms/step - loss: 1.0200 - accuracy: 0.6565 - val_loss: 1.0796 - val_accuracy: 0.6167\n",
      "Epoch 40/100\n",
      "17/17 [==============================] - 2s 100ms/step - loss: 1.0051 - accuracy: 0.6620 - val_loss: 1.0673 - val_accuracy: 0.6250\n",
      "Epoch 41/100\n",
      "17/17 [==============================] - 2s 95ms/step - loss: 0.9909 - accuracy: 0.6694 - val_loss: 1.0574 - val_accuracy: 0.6333\n",
      "Epoch 42/100\n",
      "17/17 [==============================] - 2s 100ms/step - loss: 0.9778 - accuracy: 0.6722 - val_loss: 1.0451 - val_accuracy: 0.6167\n",
      "Epoch 43/100\n",
      "17/17 [==============================] - 2s 100ms/step - loss: 0.9641 - accuracy: 0.6722 - val_loss: 1.0362 - val_accuracy: 0.6167\n",
      "Epoch 44/100\n",
      "17/17 [==============================] - 2s 100ms/step - loss: 0.9504 - accuracy: 0.6787 - val_loss: 1.0236 - val_accuracy: 0.6167\n",
      "Epoch 45/100\n",
      "17/17 [==============================] - 2s 100ms/step - loss: 0.9393 - accuracy: 0.6806 - val_loss: 1.0145 - val_accuracy: 0.6250\n",
      "Epoch 46/100\n",
      "17/17 [==============================] - 2s 95ms/step - loss: 0.9281 - accuracy: 0.6815 - val_loss: 1.0022 - val_accuracy: 0.6000\n",
      "Epoch 47/100\n",
      "17/17 [==============================] - 2s 94ms/step - loss: 0.9168 - accuracy: 0.6833 - val_loss: 0.9930 - val_accuracy: 0.6000\n",
      "Epoch 48/100\n",
      "17/17 [==============================] - 2s 95ms/step - loss: 0.9035 - accuracy: 0.6926 - val_loss: 0.9844 - val_accuracy: 0.6083\n",
      "Epoch 49/100\n",
      "17/17 [==============================] - 2s 95ms/step - loss: 0.8928 - accuracy: 0.6972 - val_loss: 0.9739 - val_accuracy: 0.6000\n",
      "Epoch 50/100\n",
      "17/17 [==============================] - 2s 100ms/step - loss: 0.8825 - accuracy: 0.6963 - val_loss: 0.9648 - val_accuracy: 0.6083\n",
      "Epoch 51/100\n",
      "17/17 [==============================] - 2s 100ms/step - loss: 0.8719 - accuracy: 0.7028 - val_loss: 0.9562 - val_accuracy: 0.6083\n",
      "Epoch 52/100\n",
      "17/17 [==============================] - 2s 100ms/step - loss: 0.8630 - accuracy: 0.7056 - val_loss: 0.9464 - val_accuracy: 0.6167\n",
      "Epoch 53/100\n",
      "17/17 [==============================] - 2s 99ms/step - loss: 0.8535 - accuracy: 0.7056 - val_loss: 0.9379 - val_accuracy: 0.6167\n",
      "Epoch 54/100\n",
      "17/17 [==============================] - 2s 100ms/step - loss: 0.8444 - accuracy: 0.7120 - val_loss: 0.9300 - val_accuracy: 0.6167\n",
      "Epoch 55/100\n",
      "17/17 [==============================] - 2s 100ms/step - loss: 0.8340 - accuracy: 0.7157 - val_loss: 0.9218 - val_accuracy: 0.6167\n",
      "Epoch 56/100\n",
      "17/17 [==============================] - 2s 95ms/step - loss: 0.8251 - accuracy: 0.7213 - val_loss: 0.9130 - val_accuracy: 0.6417\n",
      "Epoch 57/100\n",
      "17/17 [==============================] - 2s 95ms/step - loss: 0.8162 - accuracy: 0.7241 - val_loss: 0.9039 - val_accuracy: 0.6417\n",
      "Epoch 58/100\n",
      "17/17 [==============================] - 2s 95ms/step - loss: 0.8076 - accuracy: 0.7269 - val_loss: 0.8964 - val_accuracy: 0.6417\n",
      "Epoch 59/100\n",
      "17/17 [==============================] - 2s 100ms/step - loss: 0.7994 - accuracy: 0.7278 - val_loss: 0.8862 - val_accuracy: 0.6417\n",
      "Epoch 60/100\n",
      "17/17 [==============================] - 2s 100ms/step - loss: 0.7921 - accuracy: 0.7315 - val_loss: 0.8785 - val_accuracy: 0.6583\n",
      "Epoch 61/100\n",
      "17/17 [==============================] - 2s 100ms/step - loss: 0.7843 - accuracy: 0.7324 - val_loss: 0.8692 - val_accuracy: 0.6417\n",
      "Epoch 62/100\n",
      "17/17 [==============================] - 2s 100ms/step - loss: 0.7760 - accuracy: 0.7380 - val_loss: 0.8627 - val_accuracy: 0.6417\n",
      "Epoch 63/100\n",
      "17/17 [==============================] - 2s 100ms/step - loss: 0.7676 - accuracy: 0.7417 - val_loss: 0.8539 - val_accuracy: 0.6417\n",
      "Epoch 64/100\n",
      "17/17 [==============================] - 2s 99ms/step - loss: 0.7606 - accuracy: 0.7370 - val_loss: 0.8463 - val_accuracy: 0.6500\n",
      "Epoch 65/100\n",
      "17/17 [==============================] - 2s 95ms/step - loss: 0.7531 - accuracy: 0.7444 - val_loss: 0.8393 - val_accuracy: 0.6583\n",
      "Epoch 66/100\n",
      "17/17 [==============================] - 2s 100ms/step - loss: 0.7455 - accuracy: 0.7463 - val_loss: 0.8320 - val_accuracy: 0.6583\n",
      "Epoch 67/100\n",
      "17/17 [==============================] - 2s 100ms/step - loss: 0.7381 - accuracy: 0.7500 - val_loss: 0.8247 - val_accuracy: 0.6583\n",
      "Epoch 68/100\n",
      "17/17 [==============================] - 2s 100ms/step - loss: 0.7307 - accuracy: 0.7519 - val_loss: 0.8188 - val_accuracy: 0.6667\n",
      "Epoch 69/100\n",
      "17/17 [==============================] - 2s 95ms/step - loss: 0.7236 - accuracy: 0.7519 - val_loss: 0.8112 - val_accuracy: 0.6667\n",
      "Epoch 70/100\n",
      "17/17 [==============================] - 2s 100ms/step - loss: 0.7168 - accuracy: 0.7565 - val_loss: 0.8050 - val_accuracy: 0.6667\n",
      "Epoch 71/100\n",
      "17/17 [==============================] - 2s 95ms/step - loss: 0.7104 - accuracy: 0.7574 - val_loss: 0.7985 - val_accuracy: 0.6667\n",
      "Epoch 72/100\n",
      "17/17 [==============================] - 2s 95ms/step - loss: 0.7034 - accuracy: 0.7602 - val_loss: 0.7927 - val_accuracy: 0.6667\n",
      "Epoch 73/100\n",
      "17/17 [==============================] - 2s 96ms/step - loss: 0.6976 - accuracy: 0.7630 - val_loss: 0.7857 - val_accuracy: 0.6667\n",
      "Epoch 74/100\n",
      "17/17 [==============================] - 2s 96ms/step - loss: 0.6905 - accuracy: 0.7648 - val_loss: 0.7798 - val_accuracy: 0.6750\n",
      "Epoch 75/100\n",
      "17/17 [==============================] - 2s 95ms/step - loss: 0.6850 - accuracy: 0.7667 - val_loss: 0.7732 - val_accuracy: 0.6750\n",
      "Epoch 76/100\n",
      "17/17 [==============================] - 2s 95ms/step - loss: 0.6787 - accuracy: 0.7694 - val_loss: 0.7690 - val_accuracy: 0.6750\n",
      "Epoch 77/100\n",
      "17/17 [==============================] - 2s 95ms/step - loss: 0.6732 - accuracy: 0.7704 - val_loss: 0.7617 - val_accuracy: 0.6750\n",
      "Epoch 78/100\n",
      "17/17 [==============================] - 2s 95ms/step - loss: 0.6667 - accuracy: 0.7713 - val_loss: 0.7587 - val_accuracy: 0.6750\n",
      "Epoch 79/100\n",
      "17/17 [==============================] - 2s 94ms/step - loss: 0.6622 - accuracy: 0.7741 - val_loss: 0.7516 - val_accuracy: 0.6750\n",
      "Epoch 80/100\n",
      "17/17 [==============================] - 2s 100ms/step - loss: 0.6554 - accuracy: 0.7759 - val_loss: 0.7472 - val_accuracy: 0.6833\n",
      "Epoch 81/100\n",
      "17/17 [==============================] - 2s 95ms/step - loss: 0.6502 - accuracy: 0.7769 - val_loss: 0.7404 - val_accuracy: 0.6833\n",
      "Epoch 82/100\n",
      "17/17 [==============================] - 2s 95ms/step - loss: 0.6451 - accuracy: 0.7796 - val_loss: 0.7356 - val_accuracy: 0.6833\n",
      "Epoch 83/100\n",
      "17/17 [==============================] - 2s 94ms/step - loss: 0.6396 - accuracy: 0.7806 - val_loss: 0.7305 - val_accuracy: 0.7000\n",
      "Epoch 84/100\n",
      "17/17 [==============================] - 2s 95ms/step - loss: 0.6347 - accuracy: 0.7833 - val_loss: 0.7255 - val_accuracy: 0.7083\n",
      "Epoch 85/100\n",
      "17/17 [==============================] - 2s 95ms/step - loss: 0.6295 - accuracy: 0.7833 - val_loss: 0.7204 - val_accuracy: 0.7167\n",
      "Epoch 86/100\n",
      "17/17 [==============================] - 2s 95ms/step - loss: 0.6248 - accuracy: 0.7843 - val_loss: 0.7156 - val_accuracy: 0.7250\n",
      "Epoch 87/100\n",
      "17/17 [==============================] - 2s 100ms/step - loss: 0.6201 - accuracy: 0.7843 - val_loss: 0.7095 - val_accuracy: 0.7083\n",
      "Epoch 88/100\n",
      "17/17 [==============================] - 2s 100ms/step - loss: 0.6152 - accuracy: 0.7889 - val_loss: 0.7054 - val_accuracy: 0.7333\n",
      "Epoch 89/100\n",
      "17/17 [==============================] - 2s 100ms/step - loss: 0.6104 - accuracy: 0.7861 - val_loss: 0.7001 - val_accuracy: 0.7250\n",
      "Epoch 90/100\n",
      "17/17 [==============================] - 2s 95ms/step - loss: 0.6060 - accuracy: 0.7870 - val_loss: 0.6956 - val_accuracy: 0.7250\n",
      "Epoch 91/100\n",
      "17/17 [==============================] - 2s 100ms/step - loss: 0.6011 - accuracy: 0.7898 - val_loss: 0.6917 - val_accuracy: 0.7333\n",
      "Epoch 92/100\n",
      "17/17 [==============================] - 2s 100ms/step - loss: 0.5969 - accuracy: 0.7907 - val_loss: 0.6874 - val_accuracy: 0.7333\n",
      "Epoch 93/100\n",
      "17/17 [==============================] - 2s 95ms/step - loss: 0.5922 - accuracy: 0.7944 - val_loss: 0.6836 - val_accuracy: 0.7333\n",
      "Epoch 94/100\n",
      "17/17 [==============================] - 2s 100ms/step - loss: 0.5879 - accuracy: 0.7963 - val_loss: 0.6792 - val_accuracy: 0.7333\n",
      "Epoch 95/100\n",
      "17/17 [==============================] - 2s 100ms/step - loss: 0.5837 - accuracy: 0.7963 - val_loss: 0.6758 - val_accuracy: 0.7417\n",
      "Epoch 96/100\n",
      "17/17 [==============================] - 2s 95ms/step - loss: 0.5795 - accuracy: 0.7991 - val_loss: 0.6709 - val_accuracy: 0.7417\n",
      "Epoch 97/100\n",
      "17/17 [==============================] - 2s 95ms/step - loss: 0.5754 - accuracy: 0.8019 - val_loss: 0.6683 - val_accuracy: 0.7333\n",
      "Epoch 98/100\n",
      "17/17 [==============================] - 2s 100ms/step - loss: 0.5713 - accuracy: 0.8065 - val_loss: 0.6647 - val_accuracy: 0.7417\n",
      "Epoch 99/100\n",
      "17/17 [==============================] - 2s 95ms/step - loss: 0.5673 - accuracy: 0.8102 - val_loss: 0.6603 - val_accuracy: 0.7500\n",
      "Epoch 100/100\n",
      "17/17 [==============================] - 2s 95ms/step - loss: 0.5634 - accuracy: 0.8083 - val_loss: 0.6574 - val_accuracy: 0.7667\n"
     ]
    }
   ],
   "source": [
    "train_dataset = tf.data.Dataset.from_tensor_slices((X_train, Y_train)).batch(64)\n",
    "test_dataset = tf.data.Dataset.from_tensor_slices((X_test, Y_test)).batch(64)\n",
    "history = conv_model.fit(train_dataset, epochs=100, validation_data=test_dataset)"
   ]
  },
  {
   "cell_type": "markdown",
   "metadata": {},
   "source": [
    "<a name='5'></a>\n",
    "## 5 - History Object \n",
    "\n",
    "The history object is an output of the `.fit()` operation, and provides a record of all the loss and metric values in memory. It's stored as a dictionary that you can retrieve at `history.history`: "
   ]
  },
  {
   "cell_type": "code",
   "execution_count": 24,
   "metadata": {},
   "outputs": [
    {
     "data": {
      "text/plain": [
       "{'loss': [1.8219091892242432,\n",
       "  1.7992753982543945,\n",
       "  1.7918095588684082,\n",
       "  1.7878820896148682,\n",
       "  1.7842440605163574,\n",
       "  1.7805559635162354,\n",
       "  1.7767497301101685,\n",
       "  1.7724378108978271,\n",
       "  1.7677632570266724,\n",
       "  1.7617933750152588,\n",
       "  1.7536966800689697,\n",
       "  1.7435096502304077,\n",
       "  1.7306694984436035,\n",
       "  1.714100956916809,\n",
       "  1.695531964302063,\n",
       "  1.6738951206207275,\n",
       "  1.647465467453003,\n",
       "  1.6167950630187988,\n",
       "  1.5829284191131592,\n",
       "  1.5454424619674683,\n",
       "  1.5073707103729248,\n",
       "  1.4681837558746338,\n",
       "  1.4295623302459717,\n",
       "  1.3917499780654907,\n",
       "  1.3542017936706543,\n",
       "  1.3191256523132324,\n",
       "  1.2863221168518066,\n",
       "  1.2546244859695435,\n",
       "  1.225925326347351,\n",
       "  1.2005577087402344,\n",
       "  1.173674464225769,\n",
       "  1.1510066986083984,\n",
       "  1.129273772239685,\n",
       "  1.1069726943969727,\n",
       "  1.087272047996521,\n",
       "  1.0686618089675903,\n",
       "  1.0503652095794678,\n",
       "  1.0341442823410034,\n",
       "  1.0199848413467407,\n",
       "  1.0051203966140747,\n",
       "  0.9909005761146545,\n",
       "  0.9777805805206299,\n",
       "  0.9641425013542175,\n",
       "  0.9504132270812988,\n",
       "  0.939328670501709,\n",
       "  0.9280577301979065,\n",
       "  0.9168060421943665,\n",
       "  0.903491735458374,\n",
       "  0.8927814960479736,\n",
       "  0.8824787735939026,\n",
       "  0.8719468116760254,\n",
       "  0.8629695177078247,\n",
       "  0.8534770011901855,\n",
       "  0.8443796634674072,\n",
       "  0.8340005874633789,\n",
       "  0.8251482248306274,\n",
       "  0.8162340521812439,\n",
       "  0.807558536529541,\n",
       "  0.799358069896698,\n",
       "  0.7920652627944946,\n",
       "  0.7842504382133484,\n",
       "  0.7759762406349182,\n",
       "  0.7675806283950806,\n",
       "  0.7605566382408142,\n",
       "  0.7530701756477356,\n",
       "  0.7455165982246399,\n",
       "  0.7381365895271301,\n",
       "  0.7307057976722717,\n",
       "  0.7236422300338745,\n",
       "  0.7167831063270569,\n",
       "  0.7103537917137146,\n",
       "  0.7034215331077576,\n",
       "  0.697607696056366,\n",
       "  0.6905391812324524,\n",
       "  0.6849610209465027,\n",
       "  0.6786636114120483,\n",
       "  0.673229455947876,\n",
       "  0.6667009592056274,\n",
       "  0.6621811985969543,\n",
       "  0.6553568243980408,\n",
       "  0.6502349972724915,\n",
       "  0.6450541615486145,\n",
       "  0.6396356821060181,\n",
       "  0.6347368955612183,\n",
       "  0.6294599175453186,\n",
       "  0.6247634887695312,\n",
       "  0.6201021671295166,\n",
       "  0.6151724457740784,\n",
       "  0.6104446053504944,\n",
       "  0.6060489416122437,\n",
       "  0.6011055111885071,\n",
       "  0.5969091653823853,\n",
       "  0.5921676158905029,\n",
       "  0.58791583776474,\n",
       "  0.5837356448173523,\n",
       "  0.5795393586158752,\n",
       "  0.5753996968269348,\n",
       "  0.5712847709655762,\n",
       "  0.5672852993011475,\n",
       "  0.5634028911590576],\n",
       " 'accuracy': [0.16203702986240387,\n",
       "  0.1240740716457367,\n",
       "  0.17592592537403107,\n",
       "  0.18518517911434174,\n",
       "  0.20277777314186096,\n",
       "  0.20277777314186096,\n",
       "  0.21944443881511688,\n",
       "  0.25,\n",
       "  0.27314814925193787,\n",
       "  0.2750000059604645,\n",
       "  0.31481480598449707,\n",
       "  0.3305555582046509,\n",
       "  0.3583333194255829,\n",
       "  0.4037036895751953,\n",
       "  0.4185185134410858,\n",
       "  0.43611112236976624,\n",
       "  0.4462963044643402,\n",
       "  0.45092591643333435,\n",
       "  0.4703703820705414,\n",
       "  0.49259260296821594,\n",
       "  0.5009258985519409,\n",
       "  0.5138888955116272,\n",
       "  0.5240740776062012,\n",
       "  0.5259259343147278,\n",
       "  0.5444444417953491,\n",
       "  0.5601851940155029,\n",
       "  0.5740740895271301,\n",
       "  0.5842592716217041,\n",
       "  0.5907407402992249,\n",
       "  0.5944444537162781,\n",
       "  0.614814817905426,\n",
       "  0.6166666746139526,\n",
       "  0.6203703880310059,\n",
       "  0.6314814686775208,\n",
       "  0.6314814686775208,\n",
       "  0.6407407522201538,\n",
       "  0.6481481194496155,\n",
       "  0.6555555462837219,\n",
       "  0.6564815044403076,\n",
       "  0.6620370149612427,\n",
       "  0.6694444417953491,\n",
       "  0.6722221970558167,\n",
       "  0.6722221970558167,\n",
       "  0.6787037253379822,\n",
       "  0.6805555820465088,\n",
       "  0.6814814805984497,\n",
       "  0.6833333373069763,\n",
       "  0.6925926208496094,\n",
       "  0.6972222328186035,\n",
       "  0.6962962746620178,\n",
       "  0.7027778029441833,\n",
       "  0.7055555582046509,\n",
       "  0.7055555582046509,\n",
       "  0.7120370268821716,\n",
       "  0.7157407402992249,\n",
       "  0.7212963104248047,\n",
       "  0.7240740656852722,\n",
       "  0.7268518805503845,\n",
       "  0.7277777791023254,\n",
       "  0.7314814925193787,\n",
       "  0.7324073910713196,\n",
       "  0.7379629611968994,\n",
       "  0.7416666746139526,\n",
       "  0.7370370626449585,\n",
       "  0.7444444298744202,\n",
       "  0.7462962865829468,\n",
       "  0.75,\n",
       "  0.7518518567085266,\n",
       "  0.7518518567085266,\n",
       "  0.7564814686775208,\n",
       "  0.7574074268341064,\n",
       "  0.760185182094574,\n",
       "  0.7629629373550415,\n",
       "  0.7648147940635681,\n",
       "  0.7666666507720947,\n",
       "  0.769444465637207,\n",
       "  0.770370364189148,\n",
       "  0.7712963223457336,\n",
       "  0.7740740776062012,\n",
       "  0.7759259343147278,\n",
       "  0.7768518328666687,\n",
       "  0.779629647731781,\n",
       "  0.7805555462837219,\n",
       "  0.7833333611488342,\n",
       "  0.7833333611488342,\n",
       "  0.7842592597007751,\n",
       "  0.7842592597007751,\n",
       "  0.7888888716697693,\n",
       "  0.7861111164093018,\n",
       "  0.7870370149612427,\n",
       "  0.789814829826355,\n",
       "  0.7907407283782959,\n",
       "  0.7944444417953491,\n",
       "  0.7962962985038757,\n",
       "  0.7962962985038757,\n",
       "  0.7990740537643433,\n",
       "  0.8018518686294556,\n",
       "  0.8064814805984497,\n",
       "  0.8101851940155029,\n",
       "  0.8083333373069763],\n",
       " 'val_loss': [1.7993967533111572,\n",
       "  1.7917697429656982,\n",
       "  1.7881426811218262,\n",
       "  1.7855913639068604,\n",
       "  1.7819751501083374,\n",
       "  1.778438687324524,\n",
       "  1.7742325067520142,\n",
       "  1.769622564315796,\n",
       "  1.7636778354644775,\n",
       "  1.756665825843811,\n",
       "  1.7486141920089722,\n",
       "  1.7371480464935303,\n",
       "  1.7247127294540405,\n",
       "  1.7076395750045776,\n",
       "  1.6881648302078247,\n",
       "  1.6644233465194702,\n",
       "  1.6351854801177979,\n",
       "  1.6053028106689453,\n",
       "  1.570001244544983,\n",
       "  1.5344351530075073,\n",
       "  1.4946999549865723,\n",
       "  1.4597465991973877,\n",
       "  1.4208343029022217,\n",
       "  1.3867393732070923,\n",
       "  1.3535025119781494,\n",
       "  1.3236236572265625,\n",
       "  1.2961132526397705,\n",
       "  1.2698031663894653,\n",
       "  1.2456797361373901,\n",
       "  1.2243131399154663,\n",
       "  1.2038025856018066,\n",
       "  1.1835159063339233,\n",
       "  1.1648286581039429,\n",
       "  1.1479283571243286,\n",
       "  1.1324244737625122,\n",
       "  1.1191058158874512,\n",
       "  1.1048263311386108,\n",
       "  1.0926462411880493,\n",
       "  1.079609751701355,\n",
       "  1.0673128366470337,\n",
       "  1.0574067831039429,\n",
       "  1.0450913906097412,\n",
       "  1.0362077951431274,\n",
       "  1.0236321687698364,\n",
       "  1.0145182609558105,\n",
       "  1.0021638870239258,\n",
       "  0.9929982423782349,\n",
       "  0.9844269156455994,\n",
       "  0.9738618731498718,\n",
       "  0.9648133516311646,\n",
       "  0.956233561038971,\n",
       "  0.9463531970977783,\n",
       "  0.9379244446754456,\n",
       "  0.9300492405891418,\n",
       "  0.9217593669891357,\n",
       "  0.9130235314369202,\n",
       "  0.903860330581665,\n",
       "  0.8964226841926575,\n",
       "  0.8861870169639587,\n",
       "  0.8785037398338318,\n",
       "  0.8692141175270081,\n",
       "  0.8627092242240906,\n",
       "  0.8539305329322815,\n",
       "  0.8462614417076111,\n",
       "  0.8393216729164124,\n",
       "  0.8319892883300781,\n",
       "  0.8246946930885315,\n",
       "  0.8188167810440063,\n",
       "  0.8112343549728394,\n",
       "  0.8049647212028503,\n",
       "  0.7985278964042664,\n",
       "  0.7927239537239075,\n",
       "  0.785697877407074,\n",
       "  0.7797742486000061,\n",
       "  0.7732303738594055,\n",
       "  0.7689620852470398,\n",
       "  0.7616533637046814,\n",
       "  0.7587398290634155,\n",
       "  0.7516063451766968,\n",
       "  0.7472114562988281,\n",
       "  0.7403602004051208,\n",
       "  0.7355602979660034,\n",
       "  0.7305387854576111,\n",
       "  0.7255172729492188,\n",
       "  0.7204017639160156,\n",
       "  0.7155711054801941,\n",
       "  0.7094529271125793,\n",
       "  0.7054062485694885,\n",
       "  0.7000895142555237,\n",
       "  0.6955787539482117,\n",
       "  0.6917100548744202,\n",
       "  0.6873596906661987,\n",
       "  0.6835800409317017,\n",
       "  0.6791610717773438,\n",
       "  0.6758098602294922,\n",
       "  0.67086261510849,\n",
       "  0.6683246493339539,\n",
       "  0.6646568775177002,\n",
       "  0.6602843999862671,\n",
       "  0.6573532223701477],\n",
       " 'val_accuracy': [0.19166666269302368,\n",
       "  0.17499999701976776,\n",
       "  0.20000000298023224,\n",
       "  0.20000000298023224,\n",
       "  0.17499999701976776,\n",
       "  0.21666666865348816,\n",
       "  0.24166665971279144,\n",
       "  0.2750000059604645,\n",
       "  0.28333333134651184,\n",
       "  0.3166666626930237,\n",
       "  0.3166666626930237,\n",
       "  0.3583333194255829,\n",
       "  0.375,\n",
       "  0.4333333373069763,\n",
       "  0.44999998807907104,\n",
       "  0.4833333194255829,\n",
       "  0.4749999940395355,\n",
       "  0.4749999940395355,\n",
       "  0.5083333253860474,\n",
       "  0.49166667461395264,\n",
       "  0.49166667461395264,\n",
       "  0.5,\n",
       "  0.5166666507720947,\n",
       "  0.5,\n",
       "  0.5249999761581421,\n",
       "  0.5166666507720947,\n",
       "  0.5333333611488342,\n",
       "  0.5166666507720947,\n",
       "  0.5416666865348816,\n",
       "  0.5249999761581421,\n",
       "  0.550000011920929,\n",
       "  0.5583333373069763,\n",
       "  0.5666666626930237,\n",
       "  0.5666666626930237,\n",
       "  0.5833333134651184,\n",
       "  0.5833333134651184,\n",
       "  0.5833333134651184,\n",
       "  0.6083333492279053,\n",
       "  0.6166666746139526,\n",
       "  0.625,\n",
       "  0.6333333253860474,\n",
       "  0.6166666746139526,\n",
       "  0.6166666746139526,\n",
       "  0.6166666746139526,\n",
       "  0.625,\n",
       "  0.6000000238418579,\n",
       "  0.6000000238418579,\n",
       "  0.6083333492279053,\n",
       "  0.6000000238418579,\n",
       "  0.6083333492279053,\n",
       "  0.6083333492279053,\n",
       "  0.6166666746139526,\n",
       "  0.6166666746139526,\n",
       "  0.6166666746139526,\n",
       "  0.6166666746139526,\n",
       "  0.6416666507720947,\n",
       "  0.6416666507720947,\n",
       "  0.6416666507720947,\n",
       "  0.6416666507720947,\n",
       "  0.6583333611488342,\n",
       "  0.6416666507720947,\n",
       "  0.6416666507720947,\n",
       "  0.6416666507720947,\n",
       "  0.6499999761581421,\n",
       "  0.6583333611488342,\n",
       "  0.6583333611488342,\n",
       "  0.6583333611488342,\n",
       "  0.6666666865348816,\n",
       "  0.6666666865348816,\n",
       "  0.6666666865348816,\n",
       "  0.6666666865348816,\n",
       "  0.6666666865348816,\n",
       "  0.6666666865348816,\n",
       "  0.675000011920929,\n",
       "  0.675000011920929,\n",
       "  0.675000011920929,\n",
       "  0.675000011920929,\n",
       "  0.675000011920929,\n",
       "  0.675000011920929,\n",
       "  0.6833333373069763,\n",
       "  0.6833333373069763,\n",
       "  0.6833333373069763,\n",
       "  0.699999988079071,\n",
       "  0.7083333134651184,\n",
       "  0.7166666388511658,\n",
       "  0.7250000238418579,\n",
       "  0.7083333134651184,\n",
       "  0.7333333492279053,\n",
       "  0.7250000238418579,\n",
       "  0.7250000238418579,\n",
       "  0.7333333492279053,\n",
       "  0.7333333492279053,\n",
       "  0.7333333492279053,\n",
       "  0.7333333492279053,\n",
       "  0.7416666746139526,\n",
       "  0.7416666746139526,\n",
       "  0.7333333492279053,\n",
       "  0.7416666746139526,\n",
       "  0.75,\n",
       "  0.7666666507720947]}"
      ]
     },
     "execution_count": 24,
     "metadata": {},
     "output_type": "execute_result"
    }
   ],
   "source": [
    "history.history"
   ]
  },
  {
   "cell_type": "markdown",
   "metadata": {},
   "source": [
    "Now visualize the loss over time using `history.history`: "
   ]
  },
  {
   "cell_type": "code",
   "execution_count": 25,
   "metadata": {},
   "outputs": [
    {
     "data": {
      "text/plain": [
       "[Text(0, 0.5, 'Accuracy'), Text(0.5, 0, 'Epoch')]"
      ]
     },
     "execution_count": 25,
     "metadata": {},
     "output_type": "execute_result"
    },
    {
     "data": {
      "image/png": "[encoded data removed]",
      "text/plain": [
       "<Figure size 864x576 with 1 Axes>"
      ]
     },
     "metadata": {
      "needs_background": "light"
     },
     "output_type": "display_data"
    },
    {
     "data": {
      "image/png": "[encoded data removed]",
      "text/plain": [
       "<Figure size 864x576 with 1 Axes>"
      ]
     },
     "metadata": {
      "needs_background": "light"
     },
     "output_type": "display_data"
    }
   ],
   "source": [
    "# The history.history[\"loss\"] entry is a dictionary with as many values as epochs that the\n",
    "# model was trained on. \n",
    "df_loss_acc = pd.DataFrame(history.history)\n",
    "df_loss= df_loss_acc[['loss','val_loss']]\n",
    "df_loss.rename(columns={'loss':'train','val_loss':'validation'},inplace=True)\n",
    "df_acc= df_loss_acc[['accuracy','val_accuracy']]\n",
    "df_acc.rename(columns={'accuracy':'train','val_accuracy':'validation'},inplace=True)\n",
    "df_loss.plot(title='Model loss',figsize=(12,8)).set(xlabel='Epoch',ylabel='Loss')\n",
    "df_acc.plot(title='Model Accuracy',figsize=(12,8)).set(xlabel='Epoch',ylabel='Accuracy')"
   ]
  },
  {
   "cell_type": "markdown",
   "metadata": {},
   "source": [
    "**Congratulations**! You've finished the assignment and built two models: One that recognizes  smiles, and another that recognizes SIGN language with almost 80% accuracy on the test set. In addition to that, you now also understand the applications of two Keras APIs: Sequential and Functional. Nicely done! \n",
    "\n",
    "By now, you know a bit about how the Functional API works and may have glimpsed the possibilities. In your next assignment, you'll really get a feel for its power when you get the opportunity to build a very deep ConvNet, using ResNets! "
   ]
  },
  {
   "cell_type": "markdown",
   "metadata": {},
   "source": [
    "<a name='6'></a>\n",
    "## 6 - Bibliography\n",
    "\n",
    "You're always encouraged to read the official documentation. To that end, you can find the docs for the Sequential and Functional APIs here: \n",
    "\n",
    "https://www.tensorflow.org/guide/keras/sequential_model\n",
    "\n",
    "https://www.tensorflow.org/guide/keras/functional"
   ]
  }
 ],
 "metadata": {
  "coursera": {
   "course_slug": "convolutional-neural-networks",
   "graded_item_id": "bwbJV",
   "launcher_item_id": "0TkXB"
  },
  "kernelspec": {
   "display_name": "Python 3",
   "language": "python",
   "name": "python3"
  },
  "language_info": {
   "codemirror_mode": {
    "name": "ipython",
    "version": 3
   },
   "file_extension": ".py",
   "mimetype": "text/x-python",
   "name": "python",
   "nbconvert_exporter": "python",
   "pygments_lexer": "ipython3",
   "version": "3.7.6"
  }
 },
 "nbformat": 4,
 "nbformat_minor": 2
}
